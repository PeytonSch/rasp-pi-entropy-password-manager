{
 "cells": [
  {
   "cell_type": "markdown",
   "metadata": {},
   "source": [
    "<img src=\"https://3a2vzv37nkuw3esf6a3u2t7s-wpengine.netdna-ssl.com/webcentral/wp-content/uploads/sites/267/2019/02/horizontaldarkbackground.jpg\" width=\"55%\" align=\"left\"> \n",
    "<br><br><br><br><br>\n",
    "<font size=3 color='#08088A'>\n",
    "<b>CSCI250 Python Computing: Building a Sensor System</b> <br><br>\n",
    "Capstone project proposal\n",
    "</font>\n",
    "<hr style=\"height:5px\" width=\"55%\" align=\"left\">"
   ]
  },
  {
   "cell_type": "markdown",
   "metadata": {},
   "source": [
    "# Sensor System Based Password Manager and Generator\n",
    "\n",
    "We plan to make a password generator and manager that takes in user input to help generate entropy similar to how entropy is generated via user input in the linux kernel. We plan to take various types of input from that user such as button presses and noise detection. We will then randomize this input using numpy to create the randomly generated password. Once we have our users randomly generated password we will give them the option to associate it with an account or have it just be a one time password. If they so choose they can store it in the password manager which for simiplicity will be an external text file with the usernames and passwords that are obscured by a cipher or encoding so that we are not storing plaintext passwords. Another capability for our program will be that you can recover passwords that are stored in the text file in case you forget one of these passwords that you've created. Overall, this project aims to be a physical password generator/manager."
   ]
  },
  {
   "cell_type": "markdown",
   "metadata": {},
   "source": [
    "# Names and roles of all team members\n",
    "\n",
    "Olivia Lomax - Software Focus // Documentation and Reporting\n",
    "Peyton Scherschel - Software Focus\n",
    "Jared Cordell - Hardware Focus"
   ]
  },
  {
   "cell_type": "markdown",
   "metadata": {},
   "source": [
    "# How the project requirements will be met\n",
    "\n",
    "3 sensors:\n",
    "For user input:\n",
    " * Buttons\n",
    " * Sound Detector\n",
    "To prompt user to start putting in input\n",
    " * LED\n",
    "    \n",
    "\n",
    "Collect and store data (or status info) in external files:\n",
    "   * We plan on storing our passwords that are generated and saved by the user in an external file.\n",
    "    \n",
    "Process data using NumPy arrays and efficient (vectorized, concurrent) calculations:\n",
    "   * We will read our data into numpy arrays and use their randomization functions to assist us in creating more randomness to the passwords.\n",
    "    \n",
    "Display data in the final report to demonstrate the project functionality\n",
    "Interpret the project data and provide a discussion on the project outcome/success.\n",
    "* For our final report we plan on visualizing the entropy of our password generator function and demonstrating it's functionalities through either a standalone python program or within a jupyter notebook. We aren't completely sure on how we want to demonstrate the fuinctionalities of our project because there are many ways to do it."
   ]
  },
  {
   "cell_type": "markdown",
   "metadata": {},
   "source": [
    "# Project timeline and milestones\n",
    "\n",
    "### Apr. 9 - First progress update\n",
    "* Figure out most of our hardware and wiring, and have the general outline of our program set up. Have skeleton code that sets up our GPIO and ADC functionaility.\n",
    "    \n",
    "### Apr. 16 - Second progress update\n",
    "* Have solid progress on generating and storing passwords. Should have functionality to retrieve passwords from external file and decode them. Most software should be done by this point. We should start working on how we want to demonstrate functionalities in our final report.\n",
    "\n",
    "### Apr. 26 - Final reports due\n",
    "* Submit the final project notebook.\n",
    "    \n",
    "### Apr. 26 - Presentation video due\n",
    "* Submit the link to the presentation video.\n",
    "    \n",
    "### Apr. 28 - Final presentations"
   ]
  },
  {
   "cell_type": "markdown",
   "metadata": {},
   "source": [
    "# Hardware elements you intend to use\n",
    "\n",
    "* Raspberry Pi\n",
    "* Breadboard\n",
    "* GPIO\n",
    "* ADC\n",
    "* Sound Detector\n",
    "* Buttons\n",
    "* Wires\n",
    "* Resistors"
   ]
  },
  {
   "cell_type": "code",
   "execution_count": null,
   "metadata": {},
   "outputs": [],
   "source": []
  }
 ],
 "metadata": {
  "kernelspec": {
   "display_name": "Python 3",
   "language": "python",
   "name": "python3"
  },
  "language_info": {
   "codemirror_mode": {
    "name": "ipython",
    "version": 3
   },
   "file_extension": ".py",
   "mimetype": "text/x-python",
   "name": "python",
   "nbconvert_exporter": "python",
   "pygments_lexer": "ipython3",
   "version": "3.7.3"
  },
  "varInspector": {
   "cols": {
    "lenName": 16,
    "lenType": 16,
    "lenVar": 40
   },
   "kernels_config": {
    "python": {
     "delete_cmd_postfix": "",
     "delete_cmd_prefix": "del ",
     "library": "var_list.py",
     "varRefreshCmd": "print(var_dic_list())"
    },
    "r": {
     "delete_cmd_postfix": ") ",
     "delete_cmd_prefix": "rm(",
     "library": "var_list.r",
     "varRefreshCmd": "cat(var_dic_list()) "
    }
   },
   "types_to_exclude": [
    "module",
    "function",
    "builtin_function_or_method",
    "instance",
    "_Feature"
   ],
   "window_display": false
  }
 },
 "nbformat": 4,
 "nbformat_minor": 2
}
